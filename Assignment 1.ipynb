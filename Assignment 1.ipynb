{
 "cells": [
  {
   "cell_type": "code",
   "execution_count": null,
   "id": "4c0827c1",
   "metadata": {},
   "outputs": [],
   "source": [
    "# 1\n",
    "\n",
    "a=float(input(\"enter 1st no. \"))\n",
    "b=float(input(\"enter 2nd no. \"))\n",
    "c=float(input(\"enter 3rd no. \"))\n",
    "d=(a+b+c)/3\n",
    "print(d)"
   ]
  },
  {
   "cell_type": "code",
   "execution_count": 1,
   "id": "f85d075e",
   "metadata": {},
   "outputs": [
    {
     "name": "stdout",
     "output_type": "stream",
     "text": [
      "enter gross income45000\n",
      "enter number of independents10\n",
      "net tax is 1000.0\n"
     ]
    }
   ],
   "source": [
    "# 2\n",
    "\n",
    "gi=float(input(\"enter gross income\"))\n",
    "nod=int(input(\"enter number of independents\"))\n",
    "ti=gi-10000-float(3000*nod)\n",
    "net_tax=float(ti*0.2)\n",
    "print(\"net tax is\", net_tax)"
   ]
  },
  {
   "cell_type": "code",
   "execution_count": 4,
   "id": "bd0e69ee",
   "metadata": {},
   "outputs": [
    {
     "name": "stdout",
     "output_type": "stream",
     "text": [
      "Enter the number :60\n",
      "the minutes :1 , the seconds :0\n"
     ]
    }
   ],
   "source": [
    "# 3\n",
    "\n",
    "x=int(input( \"Enter the number :\"))\n",
    "min=x//60\n",
    "sec=x%60\n",
    "print(\"the minutes :\" +str(min) + \" , the seconds :\" + str(sec) )\n",
    "    \n",
    "              "
   ]
  },
  {
   "cell_type": "code",
   "execution_count": 3,
   "id": "9789c97e",
   "metadata": {},
   "outputs": [
    {
     "name": "stdout",
     "output_type": "stream",
     "text": [
      "75\n"
     ]
    }
   ],
   "source": [
    "# 4\n",
    "\n",
    "a=25\n",
    "b='25'\n",
    "c=25.0\n",
    "\n",
    "d= a + int(b) + int(c)\n",
    "print (str(d))"
   ]
  },
  {
   "cell_type": "code",
   "execution_count": 5,
   "id": "ae53ef0a",
   "metadata": {},
   "outputs": [
    {
     "name": "stdout",
     "output_type": "stream",
     "text": [
      "0---0.0   1.0\n",
      "15---0.2588   0.9659\n",
      "30---0.5   0.866\n",
      "45---0.7071   0.7071\n",
      "60---0.866   0.5\n",
      "75---0.9659   0.2588\n",
      "90---1.0   0.0\n",
      "105---0.9659   -0.2588\n",
      "120---0.866   -0.5\n",
      "135---0.7071   -0.7071\n",
      "150---0.5   -0.866\n",
      "165---0.2588   -0.9659\n",
      "180---0.0   -1.0\n",
      "195----0.2588   -0.9659\n",
      "210----0.5   -0.866\n",
      "225----0.7071   -0.7071\n",
      "240----0.866   -0.5\n",
      "255----0.9659   -0.2588\n",
      "270----1.0   -0.0\n",
      "285----0.9659   0.2588\n",
      "300----0.866   0.5\n",
      "315----0.7071   0.7071\n",
      "330----0.5   0.866\n",
      "345----0.2588   0.9659\n"
     ]
    }
   ],
   "source": [
    "# 5\n",
    "\n",
    "import math as m\n",
    "\n",
    "for i in range (0,346,15):\n",
    "    b = float(i*(m.pi/180))\n",
    "    print(\"\" + str(i) + \"---\" + str(round(m.sin(b),4)) + \"   \" + str(round(m.cos(b),4)))\n",
    "    # print(round(m.sin(b),4))"
   ]
  },
  {
   "cell_type": "code",
   "execution_count": null,
   "id": "2606ef37",
   "metadata": {},
   "outputs": [],
   "source": []
  }
 ],
 "metadata": {
  "kernelspec": {
   "display_name": "Python 3 (ipykernel)",
   "language": "python",
   "name": "python3"
  },
  "language_info": {
   "codemirror_mode": {
    "name": "ipython",
    "version": 3
   },
   "file_extension": ".py",
   "mimetype": "text/x-python",
   "name": "python",
   "nbconvert_exporter": "python",
   "pygments_lexer": "ipython3",
   "version": "3.9.13"
  }
 },
 "nbformat": 4,
 "nbformat_minor": 5
}
